{
 "cells": [
  {
   "cell_type": "markdown",
   "id": "4f39214f-d81e-45da-8c52-66865a1377bf",
   "metadata": {
    "tags": []
   },
   "source": [
    "# Parition function of classical 2D stat-mech model\n",
    "\n",
    "2D Ferromagnetic Ising model\n",
    "\n",
    "    H = -\\sum_{\\langle ij \\rangle} \\sigma_i \\sigma_j\n",
    "\n",
    "Partition function - sum of Boltzman weights for all configurations\n",
    "\n",
    "    Z(\\beta) = \\sum_{\\mathbf{\\sigma}} exp(-\\Beta H) = \\sum_{\\mathbf{\\sigma}} \\prod_{\\langle ij \\rangle} exp(\\Beta \\sigma_i \\sigma_j)\n",
    "    \n",
    "Partition function = contraction of a tensor network\n",
    "\n",
    "    x--h--x--h--x--h--x\n",
    "    |     |     |     |\n",
    "    h     h     h     h\n",
    "    |     |     |     |\n",
    "    x--h--x--h--x--h--x\n",
    "    |     |     |     |\n",
    "    h     h     h     h\n",
    "    |     |     |     |\n",
    "    x--h--x--h--x--h--x\n",
    "    \n",
    "where rank-2 tensor h<=>exp(\\Beta \\sigma_i \\sigma_j) is a Boltzman weight located on the edge between two neighbouring Ising spins ij \n",
    "and x<=>\\delta_{uldr} is a rank-4 tensor enforcing the same Ising spin state to enter the Boltzman weights on the adjacent edges.\n",
    "\n",
    "By writing out h=\\sqrt(h)\\sqrt(h), i.e. as two weights with temperature \\Beta/2, on each edge and absorbing these weights symmetrically\n",
    "into x's on each vertex we get familiar PEPS form\n",
    "\n",
    "                |\n",
    "              \\sqrt(h)   \n",
    "                |                 |\n",
    "    --\\sqrt(h)--x--\\sqrt(h)-- = --A--\n",
    "                |                 |\n",
    "             \\sqrt(h)\n",
    "                |\n",
    "\n",
    "The partition function Z(A(\\beta)) is given by the contraction\n",
    "\n",
    "    A--A--A\n",
    "    A--A--A\n",
    "    A--A--A"
   ]
  },
  {
   "cell_type": "code",
   "execution_count": 1,
   "id": "7017041f-8c6f-4a93-8b4e-212b03af8209",
   "metadata": {},
   "outputs": [],
   "source": [
    "# import numpy as np\n",
    "import numpy as np\n",
    "import scipy.linalg\n",
    "\n",
    "transpose= np.transpose\n",
    "einsum=np.einsum\n",
    "argsort= lambda x: np.argsort(x)[::-1]\n",
    "diag= np.diag\n",
    "eigvalsh= np.linalg.eigvalsh"
   ]
  },
  {
   "cell_type": "markdown",
   "id": "a6a48b93-707b-437c-b708-26c520ff9bd7",
   "metadata": {},
   "source": [
    "## i) On-site tensor\n",
    "\n",
    "Define on-site tensor A that generates the PEPS corresponding to partition function Z"
   ]
  },
  {
   "cell_type": "code",
   "execution_count": 2,
   "id": "0935f77a-8747-440a-8b9e-5be4ccbc33df",
   "metadata": {},
   "outputs": [],
   "source": [
    "sigma= np.asarray([1,-1])\n",
    "x= np.zeros((2,2,2,2))\n",
    "x[0,0,0,0]=x[1,1,1,1]=1\n",
    "\n",
    "def f_sqrth(beta):\n",
    "    r\"\"\"\n",
    "    Square root of rank-2 Boltzman weight from Ising interaction\n",
    "    \"\"\"\n",
    "    return scipy.linalg.sqrtm(np.exp(beta*np.tensordot(sigma,sigma,([],[]))).reshape(sigma.shape*2))\n",
    "    \n",
    "def f_A(beta):\n",
    "    r\"\"\"\n",
    "    On-site tensor A generating the partition function Z(\\Beta)\n",
    "    \"\"\"\n",
    "    h= f_sqrth(beta)\n",
    "    return np.einsum('ux,ly,dz,rw,xyzw->uldr',h,h,h,h,x)"
   ]
  },
  {
   "cell_type": "markdown",
   "id": "9e819bc4-09bd-47fc-829f-0c205aaf88ea",
   "metadata": {},
   "source": [
    "## ii) Build initial CTM boundary \n",
    "\n",
    "Consider two options for initial boundary\n",
    "\n",
    "Option a): Initial C,T are created from Boltzman weights on the open-boundary edges \n",
    "              \n",
    "    C-- = x--\\sqrt(h)\n",
    "    |     |\n",
    "          \\sqrt(h) \n",
    "        \n",
    "    --T-- = \\sqrt(h)--x--\\sqrt(h)\n",
    "      |               | \n",
    "                     \\sqrt(h)\n",
    "                     \n",
    "Option b): Take random (symmetric) C,T"
   ]
  },
  {
   "cell_type": "code",
   "execution_count": 3,
   "id": "dd0173aa-1ee1-4e2b-a60e-ff99d2eff0b9",
   "metadata": {},
   "outputs": [],
   "source": [
    "def init_obc_CT(beta,chi):\n",
    "    r\"\"\"\n",
    "    Build initial boundaries from Boltzman weights of open boundary system\n",
    "    \"\"\"\n",
    "    h=f_sqrth(beta)\n",
    "    x_C= np.eye(2)\n",
    "    C=np.zeros((chi,chi))\n",
    "    C[:2,:2]=np.einsum('dx,ry,xy->dr',h,h,x_C)\n",
    "    \n",
    "    x_T= np.zeros((2,2,2))\n",
    "    x_T[0,0,0]=x_T[1,1,1]=1\n",
    "    T=np.zeros((chi,chi,2))\n",
    "    T[:2,:2,:]=np.einsum('lx,dy,rz,xyz->lrd',h,h,h,x_T)\n",
    "    return C,T\n",
    "\n",
    "def init_rand_CT(A,chi):\n",
    "    r\"\"\"\n",
    "    Build random initial boundaries C, T\n",
    "    \"\"\"\n",
    "    C=np.random.rand(chi,chi)\n",
    "    C=C+transpose(C,(1,0))\n",
    "    T=np.random.rand(chi,chi,2)\n",
    "    T=T+transpose(T,(1,0,2))\n",
    "    return C,T"
   ]
  },
  {
   "cell_type": "markdown",
   "id": "92c6a2e1-0e9f-4e38-96d2-981fdad3b5c6",
   "metadata": {
    "tags": []
   },
   "source": [
    "## iii) The CTMRG move\n",
    "\n",
    "First, enlarge the system\n",
    "\n",
    "    C_i--T_i--C_i      C_i--T_i--T_i--T_i--C_i\n",
    "    T_i--A----T_i  =>  T_i--A----A----A----C_i\n",
    "    C_i--T_i--C_i      T_i--A----A----A----C_i\n",
    "                       T_i--A----A----A----C_i\n",
    "                       C_i--T_i--T_i--T_i--C_i\n",
    "\n",
    "### iii.1) Expand\n",
    "Define and accumulate enlarged quadrant of the system into enlarged corner tensor\n",
    "of size (\\chi*D)^2\n",
    "\n",
    "    C_i--T_i-- = C'_i==\n",
    "    |    |       ||\n",
    "    T_i--A----\n",
    "    |    |\n",
    "    \n",
    "Afterwards, compute its optimal compression up to rank \\chi and retrieve corresponding projectors\n",
    "\n",
    "    C'== =  U'--D'--U'^\\dag==  => compress =>  U--\\chi--D--\\chi--U^\\dag==    \n",
    "    ||      ||                                 ||"
   ]
  },
  {
   "cell_type": "code",
   "execution_count": 4,
   "id": "42448b50-cc0c-497a-a46e-a1b0d9f377b7",
   "metadata": {},
   "outputs": [],
   "source": [
    "def enlarged_C(A,C,T):\n",
    "    r\"\"\"\n",
    "    Build enlarged corner tensor\n",
    "    \n",
    "        C----1 1(0)---T--2(1) = C'==2,7\n",
    "        0             3(2)      ||\n",
    "        0(1)          3(0)      4,6\n",
    "        T--5(2) 5(1)--A--7(3)\n",
    "        4(0)          6(2) \n",
    "    \"\"\"\n",
    "    return einsum(C,(0,1),T,(1,2,3),T,(4,0,5),A,(3,5,6,7),(4,6,2,7))\n",
    "\n",
    "def compress(chi,C):\n",
    "    r\"\"\"\n",
    "    Compute optimal projectors U, which compress C' to at most rank-\\chi corner tensor C\n",
    "    \"\"\"\n",
    "    D,U= np.linalg.eigh(C.reshape(C.shape[0]*C.shape[1],C.shape[2]*C.shape[3]))\n",
    "    \n",
    "    # reorder by magnitude\n",
    "    ind=argsort(np.abs(D))\n",
    "    D= D[ind[:chi]]\n",
    "    U= U[:,ind[:chi]].reshape(C.shape[0],C.shape[1],chi)\n",
    "    return D,U"
   ]
  },
  {
   "cell_type": "markdown",
   "id": "741ddfa2-fb8c-4714-af88-dc058088785d",
   "metadata": {},
   "source": [
    "### iii.2) Absorb\n",
    "\n",
    "Renormalize the network, be absorbing and compressing enlarged corners and half-row/-column transfer matrices\n",
    "\n",
    "    C_i--T_i--T_i--T_i--C_i      C_{i+1}--T_{i+1}--C_{i+1}     \n",
    "    T_i--A----A----A----C_i  =>  T_{i+1}--A--------T_{i+1}\n",
    "    T_i--A----A----A----C_i      C_{i+1}--T_{i+1}--C_{i+1} \n",
    "    T_i--A----A----A----C_i\n",
    "    C_i--T_i--T_i--T_i--C_i\n",
    "\n",
    "Using optimal projectors, extend half-row/-column transfer matrix and compress it\n",
    "\n",
    "                                     |\n",
    "                                     U\n",
    "    |    |     ||                    ||       |\n",
    "    T_i--A-- = T'_i-- => compress => T'_i-- = T_{i+1}\n",
    "    |    |     ||                    ||       |\n",
    "                                     U^\\dag\n",
    "                                     |"
   ]
  },
  {
   "cell_type": "code",
   "execution_count": 5,
   "id": "fb9f6c70-c25b-4848-a37b-440d023c70b3",
   "metadata": {},
   "outputs": [],
   "source": [
    "def absorb(A,T,U):\n",
    "    r\"\"\"\n",
    "    Aborb and compress half-row/-column tensor given optimal projector of enlarged corner\n",
    "    \n",
    "        4(2)\n",
    "        U\n",
    "        |---------\\   \n",
    "        1(0)       3(1)\n",
    "        1          3(0)      1\n",
    "        T--2 2(1)--A--6(3) = T--2\n",
    "        0          5(2)      0\n",
    "        0          5(1)\n",
    "        |----------/\n",
    "        U^\\dag\n",
    "        7(2)\n",
    "    \"\"\"\n",
    "    return einsum(T,(0,1,2),U,(1,3,4),A,(3,2,5,6),U.conj(),(0,5,7),(7,4,6))"
   ]
  },
  {
   "cell_type": "markdown",
   "id": "fa766cf3-a22f-4649-842e-5e5b91f01a28",
   "metadata": {},
   "source": [
    "### iii.3) Compose enlarge, compress, and absorb operations into a full CTM move\n",
    "\n",
    "The compressed corner is given by leading-chi kept eigenvalues C_{i+1} of enlarged corner"
   ]
  },
  {
   "cell_type": "code",
   "execution_count": 6,
   "id": "fa2cf2b2-337d-4dc6-bf3c-d276380b3f4b",
   "metadata": {},
   "outputs": [],
   "source": [
    "def ctm_iter(A,C,T,chi):\n",
    "    r\"\"\"\n",
    "    Performs a single CTM interation renormalizing the boundary tensors\n",
    "    to environment dimension \\chi\n",
    "    \"\"\"\n",
    "    D,U= compress(chi, enlarged_C(A,C,T))\n",
    "    C_n= diag(D)\n",
    "    T_n= absorb(A,T,U)\n",
    "    return C_n,T_n"
   ]
  },
  {
   "cell_type": "markdown",
   "id": "aa62b90f-9e7f-49b1-892a-fc9c5ce168be",
   "metadata": {},
   "source": [
    "## iv) CTMRG algorithm\n",
    "\n",
    "The CTMRG algorithm requires an initial choice of the boundary tensors.\n",
    "Afterwards, it is iterated until the fixed point is reached.\n",
    "\n",
    "* Normalize numerical values of the boundary tensors by making magnitude of the largest element equal to 1.\n",
    "* To establish convergence, let's use spectra of the corners."
   ]
  },
  {
   "cell_type": "code",
   "execution_count": 7,
   "id": "5545af84-4943-4c1e-9740-ab9ff048223f",
   "metadata": {},
   "outputs": [],
   "source": [
    "def ctmrg(A,C,T,chi,ctm_max_iter=100,ctm_conv_tol=1.0e-8,callback=None):\n",
    "    r\"\"\"\n",
    "    Return a fixed point of CTMRG process for PEPS generated by tensor A with initial boundaries C,T\n",
    "    \"\"\"\n",
    "    # setup\n",
    "    # spectrum of initial corner\n",
    "    s_i= eigvalsh(C)\n",
    "    inds=argsort(s_i)\n",
    "    s_i=s_i[inds]/abs(s_i).max()\n",
    "    \n",
    "    # main ctmrg loop\n",
    "    for i in range(ctm_max_iter):\n",
    "        C,T= ctm_iter(A,C,T,chi)\n",
    "        \n",
    "        # normalize numerical values of boundary tensors by making magnitude of largest element equal to 1\n",
    "        # and symmetrize T tensor (suppres finite-precision error)\n",
    "        C= C/abs(C).max()\n",
    "        T= T+transpose(T,(1,0,2))\n",
    "        T= T/abs(T).max()\n",
    "        \n",
    "        # check convergence\n",
    "        inds=argsort(diag(C))\n",
    "        conv_crit= abs(diag(C)[inds]-s_i).sum()\n",
    "        \n",
    "        # (optional) monitor through callback\n",
    "        if callback: callback(i,conv_crit,(conv_crit < ctm_conv_tol) or i==ctm_max_iter-1,A,C,T)\n",
    "        if conv_crit < ctm_conv_tol: break\n",
    "        s_i= diag(C)[inds]\n",
    "        \n",
    "    return C,T"
   ]
  },
  {
   "cell_type": "markdown",
   "id": "c9d8ad19-e944-473a-8cdc-9867d1615058",
   "metadata": {},
   "source": [
    "## v) Evaluate on-site observable: magnetization\n",
    "\n",
    "Thermal expectation value of magnetization is given as\n",
    "\n",
    "    m = \\langle \\sigma \\rangle = Tr[\\sigma exp(-\\Beta H)] / Z(\\Beta)\n",
    "    \n",
    "which can be reinterpreted as a ratio of two tensor networks, which we approximate\n",
    "through converged boundary tensors\n",
    "          \n",
    "              ...              ...\n",
    "           A--A--A     /  ..A--A--A..          CTC   / CTC\n",
    "    m = ...A--B--A..  /   ..A--A--A.. \\approx  TBT  /  TAT\n",
    "           A--A--A   /    ..A--A--A            CTC /   CTC\n",
    "              ...              ...\n",
    "          \n",
    "where tensor B carries an on-site observable, \\sigma         "
   ]
  },
  {
   "cell_type": "code",
   "execution_count": 8,
   "id": "7e66d547-5754-40fc-a478-1fee49801ab7",
   "metadata": {},
   "outputs": [],
   "source": [
    "def f_B(beta):\n",
    "    r\"\"\"\n",
    "    On-site tensor B carrying, obtained from A by modifying the weights with observable \\sigma\n",
    "    \"\"\"\n",
    "    h= f_sqrth(beta)\n",
    "    return np.einsum('ux,ly,dz,rw,xyzw,x->uldr',h,h,h,h,x,sigma)\n",
    "\n",
    "def aux_rho_1x1(C,T):\n",
    "    r\"\"\"\n",
    "    Build environment of single site\n",
    "    \n",
    "        i) C--1 1(0)--T--2(1) = C--T--1\n",
    "           0          3(2)      0  2\n",
    "\n",
    "        ii) C--T--1 1(0)--C   = C--T-----C\n",
    "            0  2          |     0  2  3--T\n",
    "                    4(2)--T              1\n",
    "                          3(1)\n",
    "\n",
    "        iii) C------T-------C\n",
    "             0      2       |\n",
    "             0(1)           |\n",
    "             T---4(3)    3--T\n",
    "             |              1\n",
    "             |      5(2)    1(0)\n",
    "             C------T-------C       \n",
    "    \"\"\"\n",
    "    rho=einsum(C,(0,1),T,(1,2,3),(0,2,3))\n",
    "    rho=einsum(rho,(0,1,2),rho,(1,3,4),(0,3,2,4))\n",
    "    rho=einsum(rho,(0,1,2,3),rho,(1,0,5,4),(2,4,5,3))\n",
    "    return rho\n",
    "\n",
    "def eval_1x1(B,A,rho):\n",
    "    r\"\"\"\n",
    "    Given 1x1 environment rho, compute the normalized expectation value \n",
    "    of on-site tensor B\n",
    "    \"\"\"\n",
    "    return einsum('uldr,uldr',rho,B)/einsum('uldr,uldr',rho,A)"
   ]
  },
  {
   "cell_type": "markdown",
   "id": "1162592b-d7b2-484c-a4f9-ec1d9a2a9212",
   "metadata": {},
   "source": [
    "## vi) Wrap everything up to compute phase diagram\n",
    "\n",
    "The exact solution gives critical temperature and magnetization profile\n",
    "\n",
    "    \\Beta_c = log(1 + \\sqrt(2))/2\n",
    "    \n",
    "    m=(1-[sinh(2)]^{-4})^{1/8}\n",
    "    \n",
    "Pick environment dimension \\chi and compute magnetization profile for a range of \\Beta\n",
    "\n",
    "(Tip: use randomly initialized environments. What happens if you instead use one generated from Boltzman weights ?) \n"
   ]
  },
  {
   "cell_type": "code",
   "execution_count": null,
   "id": "4c2493c8-1e3b-47a1-a87c-7b7cbee0c449",
   "metadata": {},
   "outputs": [],
   "source": [
    "chi=8\n",
    "\n",
    "betas=np.linspace(0.1,0.6,20)\n",
    "ms=[]\n",
    "spec_C=[]\n",
    "\n",
    "for beta in betas:\n",
    "    A= f_A(beta)\n",
    "    C,T= ctmrg(A,*init_rand_CT(beta,chi),chi,ctm_max_iter=1000,ctm_conv_tol=1.0e-8,\n",
    "               callback=(lambda i,conv_crit,conv,_A,_C,_T: print(f\"{beta} {i} {conv_crit} {_C.diagonal()}\") if conv else None))\n",
    "    \n",
    "    m= eval_1x1(f_B(beta),A,aux_rho_1x1(C,T))\n",
    "    \n",
    "    ms.append(m)"
   ]
  },
  {
   "cell_type": "code",
   "execution_count": 13,
   "id": "e7c83256-227b-4e28-af25-22a55ae524c3",
   "metadata": {},
   "outputs": [
    {
     "name": "stderr",
     "output_type": "stream",
     "text": [
      "/tmp/ipykernel_2004/227043601.py:6: RuntimeWarning: invalid value encountered in power\n",
      "  ax[0].plot(np.linspace(np.min(betas),np.max(betas),100), np.nan_to_num((1-np.sinh(2*np.asarray(np.linspace(np.min(betas),np.max(betas),100)))**(-4))**(1/8)),color=\"black\")\n",
      "/tmp/ipykernel_2004/227043601.py:7: RuntimeWarning: invalid value encountered in power\n",
      "  ax[1].scatter(betas, abs(np.asarray(ms))-np.nan_to_num((1-np.sinh(2*np.asarray(betas))**(-4))**(1/8)) )\n"
     ]
    },
    {
     "data": {
      "image/png": "[encoded data removed]",
      "text/plain": [
       "<Figure size 1000x500 with 2 Axes>"
      ]
     },
     "metadata": {},
     "output_type": "display_data"
    }
   ],
   "source": [
    "import matplotlib.pyplot as plt\n",
    "\n",
    "# plot\n",
    "fig, ax = plt.subplots(1,2,figsize=(10, 5),gridspec_kw={'wspace': 0.5})\n",
    "ax[0].scatter(betas, abs(np.asarray(ms)))\n",
    "ax[0].plot(np.linspace(np.min(betas),np.max(betas),100), np.nan_to_num((1-np.sinh(2*np.asarray(np.linspace(np.min(betas),np.max(betas),100)))**(-4))**(1/8)),color=\"black\")\n",
    "ax[1].scatter(betas, abs(np.asarray(ms))-np.nan_to_num((1-np.sinh(2*np.asarray(betas))**(-4))**(1/8)) )\n",
    "\n",
    "ax[0].set_xlabel(r\"Beta\")\n",
    "ax[0].set_ylabel(r\"m\")\n",
    "\n",
    "ax[1].set_xlabel(r\"Beta\")\n",
    "ax[1].set_ylabel(r\"$m-m_{exact}$\")\n",
    "ax[1].set_yscale('log')\n",
    "\n",
    "plt.show()"
   ]
  },
  {
   "cell_type": "markdown",
   "id": "d7d849e3-15ca-45c6-a5c0-49c7d58f88e1",
   "metadata": {},
   "source": [
    "## vii) What about correlation lengths ?\n",
    "\n",
    "Compute PEPS correlation length from the leading part of the spectrum of widht-1 PEPS transfer matrix\n",
    "\n",
    "    --T--\n",
    "    --A-- = \\sum_i \\lambda_i |v_i><v_i|\n",
    "    --T--"
   ]
  },
  {
   "cell_type": "code",
   "execution_count": 29,
   "id": "0880f2fc-833e-451d-8642-f022c97b6020",
   "metadata": {},
   "outputs": [],
   "source": [
    "from scipy.sparse.linalg import LinearOperator, eigs\n",
    "\n",
    "def xi(A,T,n=2,v0=None):\n",
    "    r\"\"\"\n",
    "    Compute leading n-eigenvalues of width-1 transfer operator\n",
    "    \n",
    "    Use dominant eigensolver supplying a matrix-vector operation\n",
    "    \n",
    "      --0(chi) 0-----T--3(1)     ---0\n",
    "     |               4(2)       |\n",
    "     |               4(0)       |\n",
    "     v--1(D) 1(1)----A---6(3) = v'--1\n",
    "     |               5(2)       |\n",
    "     |               5(2)       |\n",
    "      --2(chi) 2(1)--T--7(0)     ---2\n",
    "    \"\"\"\n",
    "    def _mv(v):\n",
    "        v= v.reshape(T.shape[0],A.shape[1],T.shape[1])\n",
    "        v= np.einsum(v,(0,1,2),T,(0,3,4),A,(4,1,5,6),T,(7,2,5),(3,6,7))\n",
    "        v= v.reshape(T.shape[0]*A.shape[1]*T.shape[1])\n",
    "        return v\n",
    "\n",
    "    Tw1= LinearOperator((T.shape[0]*A.shape[1]*T.shape[1],)*2, matvec=_mv)\n",
    "    vals= eigs(Tw1, k=n, v0=v0, return_eigenvectors=False)\n",
    "\n",
    "    # post-process\n",
    "    ind_sorted= np.argsort(np.abs(vals))[::-1] # descending order\n",
    "    vals= vals[ind_sorted]\n",
    "    vals= (1.0/np.abs(vals[0])) * vals\n",
    "    \n",
    "    return -1./np.log(np.abs(vals[1])), vals"
   ]
  },
  {
   "cell_type": "code",
   "execution_count": null,
   "id": "651f969b-89c0-49a1-b3f1-c84f8010f8e6",
   "metadata": {},
   "outputs": [],
   "source": [
    "chi=16\n",
    "\n",
    "betas=np.linspace(0.1,0.6,20)\n",
    "ms=[]\n",
    "xis=[]\n",
    "\n",
    "for beta in betas:\n",
    "    A= f_A(beta)\n",
    "    C,T= ctmrg(A,*init_rand_CT(beta,chi),chi,ctm_max_iter=1000,ctm_conv_tol=1.0e-8,\n",
    "               callback=(lambda i,conv_crit,conv,_A,_C,_T: print(f\"{beta} {i} {conv_crit} {_C.diagonal()}\") if conv else None))\n",
    "    \n",
    "    m= eval_1x1(f_B(beta),A,aux_rho_1x1(C,T))\n",
    "    \n",
    "    ms.append(m)\n",
    "    xi_,spec= xi(A,T,n=2)\n",
    "    xis.append(xi_)"
   ]
  },
  {
   "cell_type": "code",
   "execution_count": 39,
   "id": "d29401f3-c042-449f-8023-5d32c6a3cf79",
   "metadata": {},
   "outputs": [
    {
     "name": "stderr",
     "output_type": "stream",
     "text": [
      "/tmp/ipykernel_1195/240297457.py:6: RuntimeWarning: invalid value encountered in power\n",
      "  ax[0].plot(np.linspace(np.min(betas),np.max(betas),100), np.nan_to_num((1-np.sinh(2*np.asarray(np.linspace(np.min(betas),np.max(betas),100)))**(-4))**(1/8)),color=\"black\")\n",
      "/tmp/ipykernel_1195/240297457.py:10: RuntimeWarning: invalid value encountered in power\n",
      "  ax[1].scatter(betas, abs(np.asarray(ms))-np.nan_to_num((1-np.sinh(2*np.asarray(betas))**(-4))**(1/8)) )\n"
     ]
    },
    {
     "data": {
      "image/png": "[encoded data removed]",
      "text/plain": [
       "<Figure size 1200x500 with 3 Axes>"
      ]
     },
     "metadata": {},
     "output_type": "display_data"
    }
   ],
   "source": [
    "import matplotlib.pyplot as plt\n",
    "\n",
    "# plot\n",
    "fig, ax = plt.subplots(1,3,figsize=(12, 5),gridspec_kw={'wspace': 0.5})\n",
    "ax[0].scatter(betas, abs(np.asarray(ms)))\n",
    "ax[0].plot(np.linspace(np.min(betas),np.max(betas),100), np.nan_to_num((1-np.sinh(2*np.asarray(np.linspace(np.min(betas),np.max(betas),100)))**(-4))**(1/8)),color=\"black\")\n",
    "ax[0].set_xlabel(r\"Beta\")\n",
    "ax[0].set_ylabel(r\"m\")\n",
    "\n",
    "ax[1].scatter(betas, abs(np.asarray(ms))-np.nan_to_num((1-np.sinh(2*np.asarray(betas))**(-4))**(1/8)) )\n",
    "ax[1].set_xlabel(r\"Beta\")\n",
    "ax[1].set_ylabel(r\"$m-m_{exact}$\")\n",
    "ax[1].set_yscale('log')\n",
    "\n",
    "ax[2].scatter(betas, xis)\n",
    "ax[2].set_xlabel(r\"Beta\")\n",
    "ax[2].set_ylabel(r\"$\\xi$\")\n",
    "\n",
    "plt.show()"
   ]
  }
 ],
 "metadata": {
  "kernelspec": {
   "display_name": "Python 3 (ipykernel)",
   "language": "python",
   "name": "python3"
  },
  "language_info": {
   "codemirror_mode": {
    "name": "ipython",
    "version": 3
   },
   "file_extension": ".py",
   "mimetype": "text/x-python",
   "name": "python",
   "nbconvert_exporter": "python",
   "pygments_lexer": "ipython3",
   "version": "3.10.9"
  }
 },
 "nbformat": 4,
 "nbformat_minor": 5
}
